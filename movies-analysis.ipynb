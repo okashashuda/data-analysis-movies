{
 "cells": [
  {
   "cell_type": "markdown",
   "id": "b479fce9-d280-42b6-9ea3-b21182e3bd9c",
   "metadata": {},
   "source": [
    "This project is my first step into the world of data analysis and understanding what it takes to work with data.\n",
    "\n",
    "The idea behind this project is simple, pick a dataset, learn to clean, analyze and extract statistical insights, then create visualizations that communicate some of the findings. "
   ]
  }
 ],
 "metadata": {
  "kernelspec": {
   "display_name": "Python 3 (ipykernel)",
   "language": "python",
   "name": "python3"
  },
  "language_info": {
   "codemirror_mode": {
    "name": "ipython",
    "version": 3
   },
   "file_extension": ".py",
   "mimetype": "text/x-python",
   "name": "python",
   "nbconvert_exporter": "python",
   "pygments_lexer": "ipython3",
   "version": "3.12.4"
  }
 },
 "nbformat": 4,
 "nbformat_minor": 5
}
