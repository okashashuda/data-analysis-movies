{
 "cells": [
  {
   "cell_type": "markdown",
   "id": "b479fce9-d280-42b6-9ea3-b21182e3bd9c",
   "metadata": {},
   "source": [
    "### **Introduction**\n",
    "This project is my first step into the world of data analysis and understanding what it takes to work with data.\n",
    "\n",
    "The idea behind this project is simple, pick a dataset, learn to clean, analyze and extract statistical insights, then create visualizations that communicate some of the findings.\n",
    "\n",
    "LINK TO DATASET: https://www.kaggle.com/datasets/harshitshankhdhar/imdb-dataset-of-top-1000-movies-and-tv-shows\n",
    "\n",
    "For this mini project, I decided to use a dataset containing the top 1000 IMDB movies from Kaggle."
   ]
  },
  {
   "cell_type": "markdown",
   "id": "375b5af4",
   "metadata": {},
   "source": [
    "### **Part 1: Data Exploration and Cleaning**"
   ]
  },
  {
   "cell_type": "code",
   "execution_count": 142,
   "id": "7b2ed3d0",
   "metadata": {},
   "outputs": [],
   "source": [
    "# importing Python libraries\n",
    "import pandas as pd\n",
    "import numpy as np\n",
    "import matplotlib as plt\n",
    "import seaborn as sns"
   ]
  },
  {
   "cell_type": "markdown",
   "id": "eab7ac65",
   "metadata": {},
   "source": [
    "##### **Data Overview**\n",
    "- how many rows and columns does the dataset have?\n",
    "- what are the data types of each column? are there any missing values?"
   ]
  },
  {
   "cell_type": "code",
   "execution_count": 143,
   "id": "fedd7a00",
   "metadata": {},
   "outputs": [],
   "source": [
    "# reading data from .csv file\n",
    "data = pd.read_csv(\"imdb_top_1000.csv\")"
   ]
  },
  {
   "cell_type": "code",
   "execution_count": 144,
   "id": "a718f7a6",
   "metadata": {},
   "outputs": [
    {
     "data": {
      "text/plain": [
       "(1000, 16)"
      ]
     },
     "execution_count": 144,
     "metadata": {},
     "output_type": "execute_result"
    }
   ],
   "source": [
    "data.shape"
   ]
  },
  {
   "cell_type": "markdown",
   "id": "5a486ed8",
   "metadata": {},
   "source": [
    "There are 1000 rows and 16 columns, in the dataset. This is prior to cleaning the dataset of unnecessary columns."
   ]
  },
  {
   "cell_type": "code",
   "execution_count": 145,
   "id": "0cbe8c98",
   "metadata": {},
   "outputs": [
    {
     "data": {
      "text/plain": [
       "Poster_Link       object\n",
       "Series_Title      object\n",
       "Released_Year     object\n",
       "Certificate       object\n",
       "Runtime           object\n",
       "Genre             object\n",
       "IMDB_Rating      float64\n",
       "Overview          object\n",
       "Meta_score       float64\n",
       "Director          object\n",
       "Star1             object\n",
       "Star2             object\n",
       "Star3             object\n",
       "Star4             object\n",
       "No_of_Votes        int64\n",
       "Gross             object\n",
       "dtype: object"
      ]
     },
     "execution_count": 145,
     "metadata": {},
     "output_type": "execute_result"
    }
   ],
   "source": [
    "data.dtypes"
   ]
  },
  {
   "cell_type": "markdown",
   "id": "5655cd9e",
   "metadata": {},
   "source": [
    "Majority of the data types in the dataset are objects (which can contain both characters and numbers). Columns such as `Released_Year`, `Runtime`, `Gross` should be converted to `int64` to make it easier to work with. Additionally, columns such as `Poster_Link`, `Certificate`, `Overview` and `Meta_score` are unnecessary for my use case and could be removed. "
   ]
  },
  {
   "cell_type": "code",
   "execution_count": 146,
   "id": "016bb68d",
   "metadata": {},
   "outputs": [
    {
     "data": {
      "text/plain": [
       "Poster_Link        0\n",
       "Series_Title       0\n",
       "Released_Year      0\n",
       "Certificate      101\n",
       "Runtime            0\n",
       "Genre              0\n",
       "IMDB_Rating        0\n",
       "Overview           0\n",
       "Meta_score       157\n",
       "Director           0\n",
       "Star1              0\n",
       "Star2              0\n",
       "Star3              0\n",
       "Star4              0\n",
       "No_of_Votes        0\n",
       "Gross            169\n",
       "dtype: int64"
      ]
     },
     "execution_count": 146,
     "metadata": {},
     "output_type": "execute_result"
    }
   ],
   "source": [
    "data.isna().sum()"
   ]
  },
  {
   "cell_type": "markdown",
   "id": "5680b2fa",
   "metadata": {},
   "source": [
    "The table above shows the number of null values for each column. I will have to find a way to handle null values for `Gross`"
   ]
  },
  {
   "cell_type": "code",
   "execution_count": 147,
   "id": "ebcb6bc2",
   "metadata": {},
   "outputs": [
    {
     "data": {
      "text/plain": [
       "0"
      ]
     },
     "execution_count": 147,
     "metadata": {},
     "output_type": "execute_result"
    }
   ],
   "source": [
    "data.duplicated().sum()"
   ]
  },
  {
   "cell_type": "markdown",
   "id": "b06efeb9",
   "metadata": {},
   "source": [
    "There are no duplicate rows in the dataset."
   ]
  },
  {
   "cell_type": "markdown",
   "id": "e714b0c9",
   "metadata": {},
   "source": [
    "##### **Data Cleaning**\n",
    "- identify and handle any missing or inconsistent data\n",
    "- are there any outliers in the dataset? if so, how would you handle them?"
   ]
  },
  {
   "cell_type": "code",
   "execution_count": 148,
   "id": "0102f59d",
   "metadata": {},
   "outputs": [
    {
     "data": {
      "text/html": [
       "<div>\n",
       "<style scoped>\n",
       "    .dataframe tbody tr th:only-of-type {\n",
       "        vertical-align: middle;\n",
       "    }\n",
       "\n",
       "    .dataframe tbody tr th {\n",
       "        vertical-align: top;\n",
       "    }\n",
       "\n",
       "    .dataframe thead th {\n",
       "        text-align: right;\n",
       "    }\n",
       "</style>\n",
       "<table border=\"1\" class=\"dataframe\">\n",
       "  <thead>\n",
       "    <tr style=\"text-align: right;\">\n",
       "      <th></th>\n",
       "      <th>Release_Year</th>\n",
       "      <th>Runtime</th>\n",
       "      <th>Genre</th>\n",
       "      <th>IMDB_Rating</th>\n",
       "      <th>Director</th>\n",
       "      <th>Star1</th>\n",
       "      <th>Star2</th>\n",
       "      <th>Star3</th>\n",
       "      <th>Star4</th>\n",
       "      <th>Gross</th>\n",
       "    </tr>\n",
       "    <tr>\n",
       "      <th>Movie_Title</th>\n",
       "      <th></th>\n",
       "      <th></th>\n",
       "      <th></th>\n",
       "      <th></th>\n",
       "      <th></th>\n",
       "      <th></th>\n",
       "      <th></th>\n",
       "      <th></th>\n",
       "      <th></th>\n",
       "      <th></th>\n",
       "    </tr>\n",
       "  </thead>\n",
       "  <tbody>\n",
       "    <tr>\n",
       "      <th>The Shawshank Redemption</th>\n",
       "      <td>1994</td>\n",
       "      <td>142 min</td>\n",
       "      <td>Drama</td>\n",
       "      <td>9.3</td>\n",
       "      <td>Frank Darabont</td>\n",
       "      <td>Tim Robbins</td>\n",
       "      <td>Morgan Freeman</td>\n",
       "      <td>Bob Gunton</td>\n",
       "      <td>William Sadler</td>\n",
       "      <td>28,341,469</td>\n",
       "    </tr>\n",
       "    <tr>\n",
       "      <th>The Godfather</th>\n",
       "      <td>1972</td>\n",
       "      <td>175 min</td>\n",
       "      <td>Crime, Drama</td>\n",
       "      <td>9.2</td>\n",
       "      <td>Francis Ford Coppola</td>\n",
       "      <td>Marlon Brando</td>\n",
       "      <td>Al Pacino</td>\n",
       "      <td>James Caan</td>\n",
       "      <td>Diane Keaton</td>\n",
       "      <td>134,966,411</td>\n",
       "    </tr>\n",
       "    <tr>\n",
       "      <th>The Dark Knight</th>\n",
       "      <td>2008</td>\n",
       "      <td>152 min</td>\n",
       "      <td>Action, Crime, Drama</td>\n",
       "      <td>9.0</td>\n",
       "      <td>Christopher Nolan</td>\n",
       "      <td>Christian Bale</td>\n",
       "      <td>Heath Ledger</td>\n",
       "      <td>Aaron Eckhart</td>\n",
       "      <td>Michael Caine</td>\n",
       "      <td>534,858,444</td>\n",
       "    </tr>\n",
       "    <tr>\n",
       "      <th>The Godfather: Part II</th>\n",
       "      <td>1974</td>\n",
       "      <td>202 min</td>\n",
       "      <td>Crime, Drama</td>\n",
       "      <td>9.0</td>\n",
       "      <td>Francis Ford Coppola</td>\n",
       "      <td>Al Pacino</td>\n",
       "      <td>Robert De Niro</td>\n",
       "      <td>Robert Duvall</td>\n",
       "      <td>Diane Keaton</td>\n",
       "      <td>57,300,000</td>\n",
       "    </tr>\n",
       "    <tr>\n",
       "      <th>12 Angry Men</th>\n",
       "      <td>1957</td>\n",
       "      <td>96 min</td>\n",
       "      <td>Crime, Drama</td>\n",
       "      <td>9.0</td>\n",
       "      <td>Sidney Lumet</td>\n",
       "      <td>Henry Fonda</td>\n",
       "      <td>Lee J. Cobb</td>\n",
       "      <td>Martin Balsam</td>\n",
       "      <td>John Fiedler</td>\n",
       "      <td>4,360,000</td>\n",
       "    </tr>\n",
       "    <tr>\n",
       "      <th>...</th>\n",
       "      <td>...</td>\n",
       "      <td>...</td>\n",
       "      <td>...</td>\n",
       "      <td>...</td>\n",
       "      <td>...</td>\n",
       "      <td>...</td>\n",
       "      <td>...</td>\n",
       "      <td>...</td>\n",
       "      <td>...</td>\n",
       "      <td>...</td>\n",
       "    </tr>\n",
       "    <tr>\n",
       "      <th>Breakfast at Tiffany's</th>\n",
       "      <td>1961</td>\n",
       "      <td>115 min</td>\n",
       "      <td>Comedy, Drama, Romance</td>\n",
       "      <td>7.6</td>\n",
       "      <td>Blake Edwards</td>\n",
       "      <td>Audrey Hepburn</td>\n",
       "      <td>George Peppard</td>\n",
       "      <td>Patricia Neal</td>\n",
       "      <td>Buddy Ebsen</td>\n",
       "      <td>NaN</td>\n",
       "    </tr>\n",
       "    <tr>\n",
       "      <th>Giant</th>\n",
       "      <td>1956</td>\n",
       "      <td>201 min</td>\n",
       "      <td>Drama, Western</td>\n",
       "      <td>7.6</td>\n",
       "      <td>George Stevens</td>\n",
       "      <td>Elizabeth Taylor</td>\n",
       "      <td>Rock Hudson</td>\n",
       "      <td>James Dean</td>\n",
       "      <td>Carroll Baker</td>\n",
       "      <td>NaN</td>\n",
       "    </tr>\n",
       "    <tr>\n",
       "      <th>From Here to Eternity</th>\n",
       "      <td>1953</td>\n",
       "      <td>118 min</td>\n",
       "      <td>Drama, Romance, War</td>\n",
       "      <td>7.6</td>\n",
       "      <td>Fred Zinnemann</td>\n",
       "      <td>Burt Lancaster</td>\n",
       "      <td>Montgomery Clift</td>\n",
       "      <td>Deborah Kerr</td>\n",
       "      <td>Donna Reed</td>\n",
       "      <td>30,500,000</td>\n",
       "    </tr>\n",
       "    <tr>\n",
       "      <th>Lifeboat</th>\n",
       "      <td>1944</td>\n",
       "      <td>97 min</td>\n",
       "      <td>Drama, War</td>\n",
       "      <td>7.6</td>\n",
       "      <td>Alfred Hitchcock</td>\n",
       "      <td>Tallulah Bankhead</td>\n",
       "      <td>John Hodiak</td>\n",
       "      <td>Walter Slezak</td>\n",
       "      <td>William Bendix</td>\n",
       "      <td>NaN</td>\n",
       "    </tr>\n",
       "    <tr>\n",
       "      <th>The 39 Steps</th>\n",
       "      <td>1935</td>\n",
       "      <td>86 min</td>\n",
       "      <td>Crime, Mystery, Thriller</td>\n",
       "      <td>7.6</td>\n",
       "      <td>Alfred Hitchcock</td>\n",
       "      <td>Robert Donat</td>\n",
       "      <td>Madeleine Carroll</td>\n",
       "      <td>Lucie Mannheim</td>\n",
       "      <td>Godfrey Tearle</td>\n",
       "      <td>NaN</td>\n",
       "    </tr>\n",
       "  </tbody>\n",
       "</table>\n",
       "<p>1000 rows × 10 columns</p>\n",
       "</div>"
      ],
      "text/plain": [
       "                         Release_Year  Runtime                     Genre  \\\n",
       "Movie_Title                                                                \n",
       "The Shawshank Redemption         1994  142 min                     Drama   \n",
       "The Godfather                    1972  175 min              Crime, Drama   \n",
       "The Dark Knight                  2008  152 min      Action, Crime, Drama   \n",
       "The Godfather: Part II           1974  202 min              Crime, Drama   \n",
       "12 Angry Men                     1957   96 min              Crime, Drama   \n",
       "...                               ...      ...                       ...   \n",
       "Breakfast at Tiffany's           1961  115 min    Comedy, Drama, Romance   \n",
       "Giant                            1956  201 min            Drama, Western   \n",
       "From Here to Eternity            1953  118 min       Drama, Romance, War   \n",
       "Lifeboat                         1944   97 min                Drama, War   \n",
       "The 39 Steps                     1935   86 min  Crime, Mystery, Thriller   \n",
       "\n",
       "                          IMDB_Rating              Director  \\\n",
       "Movie_Title                                                   \n",
       "The Shawshank Redemption          9.3        Frank Darabont   \n",
       "The Godfather                     9.2  Francis Ford Coppola   \n",
       "The Dark Knight                   9.0     Christopher Nolan   \n",
       "The Godfather: Part II            9.0  Francis Ford Coppola   \n",
       "12 Angry Men                      9.0          Sidney Lumet   \n",
       "...                               ...                   ...   \n",
       "Breakfast at Tiffany's            7.6         Blake Edwards   \n",
       "Giant                             7.6        George Stevens   \n",
       "From Here to Eternity             7.6        Fred Zinnemann   \n",
       "Lifeboat                          7.6      Alfred Hitchcock   \n",
       "The 39 Steps                      7.6      Alfred Hitchcock   \n",
       "\n",
       "                                      Star1              Star2  \\\n",
       "Movie_Title                                                      \n",
       "The Shawshank Redemption        Tim Robbins     Morgan Freeman   \n",
       "The Godfather                 Marlon Brando          Al Pacino   \n",
       "The Dark Knight              Christian Bale       Heath Ledger   \n",
       "The Godfather: Part II            Al Pacino     Robert De Niro   \n",
       "12 Angry Men                    Henry Fonda        Lee J. Cobb   \n",
       "...                                     ...                ...   \n",
       "Breakfast at Tiffany's       Audrey Hepburn     George Peppard   \n",
       "Giant                      Elizabeth Taylor        Rock Hudson   \n",
       "From Here to Eternity        Burt Lancaster   Montgomery Clift   \n",
       "Lifeboat                  Tallulah Bankhead        John Hodiak   \n",
       "The 39 Steps                   Robert Donat  Madeleine Carroll   \n",
       "\n",
       "                                   Star3           Star4        Gross  \n",
       "Movie_Title                                                            \n",
       "The Shawshank Redemption      Bob Gunton  William Sadler   28,341,469  \n",
       "The Godfather                 James Caan    Diane Keaton  134,966,411  \n",
       "The Dark Knight            Aaron Eckhart   Michael Caine  534,858,444  \n",
       "The Godfather: Part II     Robert Duvall    Diane Keaton   57,300,000  \n",
       "12 Angry Men               Martin Balsam    John Fiedler    4,360,000  \n",
       "...                                  ...             ...          ...  \n",
       "Breakfast at Tiffany's     Patricia Neal     Buddy Ebsen          NaN  \n",
       "Giant                         James Dean   Carroll Baker          NaN  \n",
       "From Here to Eternity       Deborah Kerr      Donna Reed   30,500,000  \n",
       "Lifeboat                   Walter Slezak  William Bendix          NaN  \n",
       "The 39 Steps              Lucie Mannheim  Godfrey Tearle          NaN  \n",
       "\n",
       "[1000 rows x 10 columns]"
      ]
     },
     "execution_count": 148,
     "metadata": {},
     "output_type": "execute_result"
    }
   ],
   "source": [
    "data = data.drop(columns=[\"Poster_Link\", \"Certificate\", \"Overview\", \"Meta_score\", \"No_of_Votes\"]) # dropping unnecessary columns\n",
    "data = data.rename(columns={\"Series_Title\" : \"Movie_Title\", \"Released_Year\" : \"Release_Year\"}) # renaming columns \n",
    "data = data.set_index(\"Movie_Title\") # using the Movie_Title as the index instead of 0,1,2...\n",
    "data"
   ]
  }
 ],
 "metadata": {
  "kernelspec": {
   "display_name": "Python 3 (ipykernel)",
   "language": "python",
   "name": "python3"
  },
  "language_info": {
   "codemirror_mode": {
    "name": "ipython",
    "version": 3
   },
   "file_extension": ".py",
   "mimetype": "text/x-python",
   "name": "python",
   "nbconvert_exporter": "python",
   "pygments_lexer": "ipython3",
   "version": "3.12.4"
  }
 },
 "nbformat": 4,
 "nbformat_minor": 5
}
